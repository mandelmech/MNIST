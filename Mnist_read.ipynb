{
 "cells": [
  {
   "cell_type": "markdown",
   "metadata": {},
   "source": [
    "# Opening MNIST dataset with Python"
   ]
  },
  {
   "cell_type": "code",
   "execution_count": 1,
   "metadata": {},
   "outputs": [],
   "source": [
    "import numpy as np\n",
    "import matplotlib.pyplot as plt"
   ]
  },
  {
   "cell_type": "markdown",
   "metadata": {},
   "source": [
    "# Opening Test Set Data"
   ]
  },
  {
   "cell_type": "code",
   "execution_count": 2,
   "metadata": {},
   "outputs": [],
   "source": [
    "fname = 't10k-images.idx3-ubyte'\n",
    "with open(fname, 'rb') as file:\n",
    "    bytes = file.read()"
   ]
  },
  {
   "cell_type": "markdown",
   "metadata": {},
   "source": [
    "### Sanity Checks"
   ]
  },
  {
   "cell_type": "code",
   "execution_count": null,
   "metadata": {},
   "outputs": [],
   "source": [
    "print(bytes[0:16])"
   ]
  },
  {
   "cell_type": "code",
   "execution_count": 3,
   "metadata": {},
   "outputs": [
    {
     "name": "stdout",
     "output_type": "stream",
     "text": [
      "Magic number: 2051\n",
      "Number of images: 10000\n",
      "Rows: 28\n",
      "Columns: 28\n",
      "\n",
      "First two bytes:\n",
      "0\n",
      "0\n"
     ]
    }
   ],
   "source": [
    "mnumber = int.from_bytes(bytes[0:4], 'big')\n",
    "num_test_imgs = int.from_bytes(bytes[4:8], 'big')\n",
    "rows = int.from_bytes(bytes[9:12], 'big')\n",
    "cols = int.from_bytes(bytes[12:16],  'big')\n",
    "\n",
    "print('Magic number: {}'.format(mnumber))\n",
    "print('Number of images: {}'.format(num_test_imgs))\n",
    "print('Rows: {}'.format(rows))\n",
    "print('Columns: {}'.format(cols))\n",
    "print('\\nFirst two bytes:')\n",
    "print(int.from_bytes(bytes[16:17], 'big'))\n",
    "print(int.from_bytes(bytes[17:18], 'big'))"
   ]
  },
  {
   "cell_type": "code",
   "execution_count": null,
   "metadata": {},
   "outputs": [],
   "source": [
    "byt = 16\n",
    "count = 0\n",
    "lst = []\n",
    "while True:\n",
    "    lst.append((int.from_bytes(bytes[byt:byt+1], 'big')))\n",
    "    byt += 1\n",
    "    count += 1\n",
    "    if count == 784: break"
   ]
  },
  {
   "cell_type": "code",
   "execution_count": null,
   "metadata": {},
   "outputs": [],
   "source": [
    "test_img = np.asarray([lst])"
   ]
  },
  {
   "cell_type": "code",
   "execution_count": null,
   "metadata": {},
   "outputs": [],
   "source": [
    "plt.imshow(test_img.reshape([28, 28]), cmap='gray')"
   ]
  },
  {
   "cell_type": "markdown",
   "metadata": {},
   "source": [
    "### Storing test set data in test_data"
   ]
  },
  {
   "cell_type": "code",
   "execution_count": 4,
   "metadata": {},
   "outputs": [],
   "source": [
    "nbytes = bytes[16:]"
   ]
  },
  {
   "cell_type": "code",
   "execution_count": 5,
   "metadata": {},
   "outputs": [
    {
     "data": {
      "text/plain": [
       "7840000"
      ]
     },
     "execution_count": 5,
     "metadata": {},
     "output_type": "execute_result"
    }
   ],
   "source": [
    "len(nbytes)"
   ]
  },
  {
   "cell_type": "code",
   "execution_count": 6,
   "metadata": {},
   "outputs": [],
   "source": [
    "test_data = np.zeros([num_test_imgs, 784])\n",
    "for i in range(num_test_imgs):\n",
    "    lst = []\n",
    "    byt = i * 784\n",
    "    for j in range(784):\n",
    "        lst.append((int.from_bytes(nbytes[byt:byt+1], 'big')))\n",
    "        byt += 1\n",
    "    test_data[i] = lst"
   ]
  },
  {
   "cell_type": "markdown",
   "metadata": {},
   "source": [
    "# Opening Test Set Labels and checking values"
   ]
  },
  {
   "cell_type": "code",
   "execution_count": 44,
   "metadata": {},
   "outputs": [],
   "source": [
    "fname = 't10k-labels.idx1-ubyte'\n",
    "with open(fname, 'rb') as file:\n",
    "    bytes = file.read()"
   ]
  },
  {
   "cell_type": "code",
   "execution_count": 45,
   "metadata": {},
   "outputs": [
    {
     "name": "stdout",
     "output_type": "stream",
     "text": [
      "Magic Number: 2049\n",
      "# of Labels: 10000\n",
      "1st 2 numbers:\n",
      "7\n",
      "2\n"
     ]
    }
   ],
   "source": [
    "mnumber = int.from_bytes(bytes[0:4], 'big')\n",
    "num_test_labels = int.from_bytes(bytes[4:8], 'big')\n",
    "print('Magic Number: {}'.format(mnumber))\n",
    "print('# of Labels: {}'.format(num_test_labels))\n",
    "print('1st 2 numbers:')\n",
    "print(int.from_bytes(bytes[8:9], 'big'))\n",
    "print(int.from_bytes(bytes[9:10], 'big'))"
   ]
  },
  {
   "cell_type": "markdown",
   "metadata": {},
   "source": [
    "### Storing Test set labels"
   ]
  },
  {
   "cell_type": "code",
   "execution_count": 46,
   "metadata": {},
   "outputs": [],
   "source": [
    "nbytes = bytes[8:]\n",
    "test_labels = np.zeros([10000], dtype='int')\n",
    "for i in range(num_test_labels):\n",
    "    test_labels[i] = int.from_bytes(nbytes[i:i+1], 'big')\n",
    "test_labels.reshape([10000,1]);"
   ]
  },
  {
   "cell_type": "markdown",
   "metadata": {},
   "source": [
    "### Checking a random image"
   ]
  },
  {
   "cell_type": "code",
   "execution_count": 53,
   "metadata": {},
   "outputs": [
    {
     "data": {
      "image/png": "[encoded data removed]",
      "text/plain": [
       "<Figure size 432x288 with 1 Axes>"
      ]
     },
     "metadata": {
      "needs_background": "light"
     },
     "output_type": "display_data"
    },
    {
     "name": "stdout",
     "output_type": "stream",
     "text": [
      "You should see a 5, image number 2545\n"
     ]
    }
   ],
   "source": [
    "img = np.random.randint(0, 10000)\n",
    "im = test_data[img].reshape([28,28])\n",
    "plt.imshow(im, cmap='gray')\n",
    "plt.show()\n",
    "print('You should see a {}, image number {}'.format(test_labels[img], img))"
   ]
  },
  {
   "cell_type": "markdown",
   "metadata": {},
   "source": [
    "# Opening Training set Data and Labels"
   ]
  },
  {
   "cell_type": "code",
   "execution_count": 55,
   "metadata": {},
   "outputs": [],
   "source": [
    "fname = 'train-images.idx3-ubyte'\n",
    "with open(fname, 'rb') as file:\n",
    "    bytes = file.read()"
   ]
  },
  {
   "cell_type": "code",
   "execution_count": 56,
   "metadata": {},
   "outputs": [
    {
     "name": "stdout",
     "output_type": "stream",
     "text": [
      "Magic number: 2051\n",
      "Number of images: 60000\n",
      "Rows: 28\n",
      "Columns: 28\n",
      "\n",
      "First two bytes:\n",
      "0\n",
      "0\n"
     ]
    }
   ],
   "source": [
    "mnumber = int.from_bytes(bytes[0:4], 'big')\n",
    "num_train_imgs = int.from_bytes(bytes[4:8], 'big')\n",
    "rows = int.from_bytes(bytes[9:12], 'big')\n",
    "cols = int.from_bytes(bytes[12:16],  'big')\n",
    "\n",
    "print('Magic number: {}'.format(mnumber))\n",
    "print('Number of images: {}'.format(num_train_imgs))\n",
    "print('Rows: {}'.format(rows))\n",
    "print('Columns: {}'.format(cols))\n",
    "print('\\nFirst two bytes:')\n",
    "print(int.from_bytes(bytes[16:17], 'big'))\n",
    "print(int.from_bytes(bytes[17:18], 'big'))"
   ]
  },
  {
   "cell_type": "code",
   "execution_count": 57,
   "metadata": {
    "scrolled": true
   },
   "outputs": [
    {
     "data": {
      "text/plain": [
       "47040000"
      ]
     },
     "execution_count": 57,
     "metadata": {},
     "output_type": "execute_result"
    }
   ],
   "source": [
    "nbytes = bytes[16:]\n",
    "len(nbytes)"
   ]
  },
  {
   "cell_type": "code",
   "execution_count": 58,
   "metadata": {},
   "outputs": [],
   "source": [
    "train_data = np.zeros([num_train_imgs, 784])\n",
    "for i in range(num_train_imgs):\n",
    "    lst = []\n",
    "    byt = i * 784\n",
    "    for j in range(784):\n",
    "        lst.append((int.from_bytes(nbytes[byt:byt+1], 'big')))\n",
    "        byt += 1\n",
    "    train_data[i] = lst"
   ]
  },
  {
   "cell_type": "code",
   "execution_count": 59,
   "metadata": {},
   "outputs": [
    {
     "data": {
      "text/plain": [
       "(60000, 784)"
      ]
     },
     "execution_count": 59,
     "metadata": {},
     "output_type": "execute_result"
    }
   ],
   "source": [
    "train_data.shape"
   ]
  },
  {
   "cell_type": "code",
   "execution_count": 60,
   "metadata": {},
   "outputs": [],
   "source": [
    "fname = 'train-labels.idx1-ubyte'\n",
    "with open(fname, 'rb') as file:\n",
    "    bytes = file.read()"
   ]
  },
  {
   "cell_type": "code",
   "execution_count": 61,
   "metadata": {},
   "outputs": [],
   "source": [
    "nbytes = bytes[8:]"
   ]
  },
  {
   "cell_type": "code",
   "execution_count": 62,
   "metadata": {},
   "outputs": [],
   "source": [
    "train_labels = np.zeros(num_train_imgs, dtype='int')\n",
    "for i in range(num_train_imgs):\n",
    "    train_labels[i] = int.from_bytes(nbytes[i:i+1], 'big')\n",
    "train_labels.reshape([num_train_imgs,1]);"
   ]
  },
  {
   "cell_type": "markdown",
   "metadata": {},
   "source": [
    "## Checking a random image"
   ]
  },
  {
   "cell_type": "code",
   "execution_count": 63,
   "metadata": {},
   "outputs": [
    {
     "data": {
      "image/png": "[encoded data removed]",
      "text/plain": [
       "<Figure size 432x288 with 1 Axes>"
      ]
     },
     "metadata": {
      "needs_background": "light"
     },
     "output_type": "display_data"
    },
    {
     "name": "stdout",
     "output_type": "stream",
     "text": [
      "You should see a 3, image number 47096\n"
     ]
    }
   ],
   "source": [
    "img = np.random.randint(0, 60000)\n",
    "plt.imshow(train_data[img].reshape([28, 28]), cmap='gray')\n",
    "plt.show()\n",
    "print('You should see a {}, image number {}'.format(train_labels[img], img + 1))"
   ]
  },
  {
   "cell_type": "code",
   "execution_count": null,
   "metadata": {},
   "outputs": [],
   "source": []
  }
 ],
 "metadata": {
  "kernelspec": {
   "display_name": "Python 3",
   "language": "python",
   "name": "python3"
  },
  "language_info": {
   "codemirror_mode": {
    "name": "ipython",
    "version": 3
   },
   "file_extension": ".py",
   "mimetype": "text/x-python",
   "name": "python",
   "nbconvert_exporter": "python",
   "pygments_lexer": "ipython3",
   "version": "3.7.3"
  }
 },
 "nbformat": 4,
 "nbformat_minor": 2
}
